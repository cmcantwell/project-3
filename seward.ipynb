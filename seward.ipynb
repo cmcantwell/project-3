{
 "cells": [
  {
   "cell_type": "code",
   "execution_count": 1,
   "id": "04dfc745",
   "metadata": {},
   "outputs": [],
   "source": [
    "import numpy as np\n",
    "import pandas as pd\n",
    "import sqlalchemy\n",
    "from sqlalchemy.ext.automap import automap_base\n",
    "from sqlalchemy.orm import Session\n",
    "from sqlalchemy import create_engine, func, inspect, text\n",
    "from flask import Flask, jsonify\n",
    "from pathlib import Path"
   ]
  },
  {
   "cell_type": "code",
   "execution_count": 2,
   "id": "94f747b9",
   "metadata": {},
   "outputs": [],
   "source": [
    "csv_path=Path(\"NWSS_Public_SARS-CoV-2_Wastewater_Metric_Data.csv\")"
   ]
  },
  {
   "cell_type": "code",
   "execution_count": 4,
   "id": "c4b3a1cb",
   "metadata": {},
   "outputs": [
    {
     "data": {
      "text/html": [
       "<div>\n",
       "<style scoped>\n",
       "    .dataframe tbody tr th:only-of-type {\n",
       "        vertical-align: middle;\n",
       "    }\n",
       "\n",
       "    .dataframe tbody tr th {\n",
       "        vertical-align: top;\n",
       "    }\n",
       "\n",
       "    .dataframe thead th {\n",
       "        text-align: right;\n",
       "    }\n",
       "</style>\n",
       "<table border=\"1\" class=\"dataframe\">\n",
       "  <thead>\n",
       "    <tr style=\"text-align: right;\">\n",
       "      <th></th>\n",
       "      <th>wwtp_jurisdiction</th>\n",
       "      <th>date_start</th>\n",
       "      <th>date_end</th>\n",
       "      <th>percentile</th>\n",
       "    </tr>\n",
       "  </thead>\n",
       "  <tbody>\n",
       "    <tr>\n",
       "      <th>0</th>\n",
       "      <td>Indiana</td>\n",
       "      <td>2022-06-13</td>\n",
       "      <td>2022-06-27</td>\n",
       "      <td>95.000</td>\n",
       "    </tr>\n",
       "    <tr>\n",
       "      <th>1</th>\n",
       "      <td>Indiana</td>\n",
       "      <td>2022-06-14</td>\n",
       "      <td>2022-06-28</td>\n",
       "      <td>80.000</td>\n",
       "    </tr>\n",
       "    <tr>\n",
       "      <th>2</th>\n",
       "      <td>Indiana</td>\n",
       "      <td>2022-06-15</td>\n",
       "      <td>2022-06-29</td>\n",
       "      <td>80.000</td>\n",
       "    </tr>\n",
       "    <tr>\n",
       "      <th>3</th>\n",
       "      <td>Indiana</td>\n",
       "      <td>2022-06-16</td>\n",
       "      <td>2022-06-30</td>\n",
       "      <td>80.000</td>\n",
       "    </tr>\n",
       "    <tr>\n",
       "      <th>4</th>\n",
       "      <td>Indiana</td>\n",
       "      <td>2022-06-17</td>\n",
       "      <td>2022-07-01</td>\n",
       "      <td>80.000</td>\n",
       "    </tr>\n",
       "    <tr>\n",
       "      <th>...</th>\n",
       "      <td>...</td>\n",
       "      <td>...</td>\n",
       "      <td>...</td>\n",
       "      <td>...</td>\n",
       "    </tr>\n",
       "    <tr>\n",
       "      <th>95</th>\n",
       "      <td>Indiana</td>\n",
       "      <td>2022-09-16</td>\n",
       "      <td>2022-09-30</td>\n",
       "      <td>51.667</td>\n",
       "    </tr>\n",
       "    <tr>\n",
       "      <th>96</th>\n",
       "      <td>Indiana</td>\n",
       "      <td>2022-09-17</td>\n",
       "      <td>2022-10-01</td>\n",
       "      <td>51.667</td>\n",
       "    </tr>\n",
       "    <tr>\n",
       "      <th>97</th>\n",
       "      <td>Indiana</td>\n",
       "      <td>2022-09-18</td>\n",
       "      <td>2022-10-02</td>\n",
       "      <td>38.667</td>\n",
       "    </tr>\n",
       "    <tr>\n",
       "      <th>98</th>\n",
       "      <td>Indiana</td>\n",
       "      <td>2022-09-19</td>\n",
       "      <td>2022-10-03</td>\n",
       "      <td>38.667</td>\n",
       "    </tr>\n",
       "    <tr>\n",
       "      <th>99</th>\n",
       "      <td>Indiana</td>\n",
       "      <td>2022-09-20</td>\n",
       "      <td>2022-10-04</td>\n",
       "      <td>41.000</td>\n",
       "    </tr>\n",
       "  </tbody>\n",
       "</table>\n",
       "<p>100 rows × 4 columns</p>\n",
       "</div>"
      ],
      "text/plain": [
       "   wwtp_jurisdiction  date_start    date_end  percentile\n",
       "0            Indiana  2022-06-13  2022-06-27      95.000\n",
       "1            Indiana  2022-06-14  2022-06-28      80.000\n",
       "2            Indiana  2022-06-15  2022-06-29      80.000\n",
       "3            Indiana  2022-06-16  2022-06-30      80.000\n",
       "4            Indiana  2022-06-17  2022-07-01      80.000\n",
       "..               ...         ...         ...         ...\n",
       "95           Indiana  2022-09-16  2022-09-30      51.667\n",
       "96           Indiana  2022-09-17  2022-10-01      51.667\n",
       "97           Indiana  2022-09-18  2022-10-02      38.667\n",
       "98           Indiana  2022-09-19  2022-10-03      38.667\n",
       "99           Indiana  2022-09-20  2022-10-04      41.000\n",
       "\n",
       "[100 rows x 4 columns]"
      ]
     },
     "execution_count": 4,
     "metadata": {},
     "output_type": "execute_result"
    }
   ],
   "source": [
    "waste_water_df=pd.read_csv(csv_path)\n",
    "waste_water_df.head(100)"
   ]
  },
  {
   "cell_type": "code",
   "execution_count": 7,
   "id": "1c68c879",
   "metadata": {},
   "outputs": [],
   "source": [
    "engine=create_engine(f'sqlite:///seward.sqlite',echo=False)\n",
    "session= Session(bind=engine)"
   ]
  },
  {
   "cell_type": "code",
   "execution_count": 9,
   "id": "1cc70f84",
   "metadata": {},
   "outputs": [
    {
     "data": {
      "text/plain": [
       "815237"
      ]
     },
     "execution_count": 9,
     "metadata": {},
     "output_type": "execute_result"
    }
   ],
   "source": [
    "waste_water_df.to_sql(name = 'seward', con = engine)"
   ]
  },
  {
   "cell_type": "code",
   "execution_count": 10,
   "id": "1ce148de",
   "metadata": {},
   "outputs": [
    {
     "name": "stdout",
     "output_type": "stream",
     "text": [
      "seward - - - - - - - - - - - - - - - - - - - - - -\n",
      "index - BIGINT\n",
      "wwtp_jurisdiction - TEXT\n",
      "date_start - TEXT\n",
      "date_end - TEXT\n",
      "percentile - FLOAT\n"
     ]
    }
   ],
   "source": [
    "insp = inspect(engine)\n",
    "response = insp.get_table_names()\n",
    "for table in response:\n",
    "    print(f'{table} - - - - - - - - - - - - - - - - - - - - - -')\n",
    "    cols = insp.get_columns(table)\n",
    "    for col in cols:\n",
    "        print(f'{col[\"name\"]} - {col[\"type\"]}')"
   ]
  },
  {
   "cell_type": "code",
   "execution_count": 15,
   "id": "141086a4",
   "metadata": {},
   "outputs": [
    {
     "ename": "AttributeError",
     "evalue": "waste_water_df",
     "output_type": "error",
     "traceback": [
      "\u001b[1;31m---------------------------------------------------------------------------\u001b[0m",
      "\u001b[1;31mKeyError\u001b[0m                                  Traceback (most recent call last)",
      "File \u001b[1;32m~\\anaconda\\lib\\site-packages\\sqlalchemy\\util\\_collections.py:186\u001b[0m, in \u001b[0;36mProperties.__getattr__\u001b[1;34m(self, key)\u001b[0m\n\u001b[0;32m    185\u001b[0m \u001b[38;5;28;01mtry\u001b[39;00m:\n\u001b[1;32m--> 186\u001b[0m     \u001b[38;5;28;01mreturn\u001b[39;00m \u001b[38;5;28;43mself\u001b[39;49m\u001b[38;5;241;43m.\u001b[39;49m\u001b[43m_data\u001b[49m\u001b[43m[\u001b[49m\u001b[43mkey\u001b[49m\u001b[43m]\u001b[49m\n\u001b[0;32m    187\u001b[0m \u001b[38;5;28;01mexcept\u001b[39;00m \u001b[38;5;167;01mKeyError\u001b[39;00m:\n",
      "\u001b[1;31mKeyError\u001b[0m: 'waste_water_df'",
      "\nDuring handling of the above exception, another exception occurred:\n",
      "\u001b[1;31mAttributeError\u001b[0m                            Traceback (most recent call last)",
      "Cell \u001b[1;32mIn[15], line 6\u001b[0m\n\u001b[0;32m      1\u001b[0m Base \u001b[38;5;241m=\u001b[39m automap_base()\n\u001b[0;32m      3\u001b[0m Base\u001b[38;5;241m.\u001b[39mprepare(autoload_with\u001b[38;5;241m=\u001b[39mengine)\n\u001b[1;32m----> 6\u001b[0m seward\u001b[38;5;241m=\u001b[39m\u001b[43mBase\u001b[49m\u001b[38;5;241;43m.\u001b[39;49m\u001b[43mclasses\u001b[49m\u001b[38;5;241;43m.\u001b[39;49m\u001b[43mwaste_water_df\u001b[49m\n\u001b[0;32m      7\u001b[0m \u001b[38;5;28mprint\u001b[39m(seward)\n",
      "File \u001b[1;32m~\\anaconda\\lib\\site-packages\\sqlalchemy\\util\\_collections.py:188\u001b[0m, in \u001b[0;36mProperties.__getattr__\u001b[1;34m(self, key)\u001b[0m\n\u001b[0;32m    186\u001b[0m     \u001b[38;5;28;01mreturn\u001b[39;00m \u001b[38;5;28mself\u001b[39m\u001b[38;5;241m.\u001b[39m_data[key]\n\u001b[0;32m    187\u001b[0m \u001b[38;5;28;01mexcept\u001b[39;00m \u001b[38;5;167;01mKeyError\u001b[39;00m:\n\u001b[1;32m--> 188\u001b[0m     \u001b[38;5;28;01mraise\u001b[39;00m \u001b[38;5;167;01mAttributeError\u001b[39;00m(key)\n",
      "\u001b[1;31mAttributeError\u001b[0m: waste_water_df"
     ]
    }
   ],
   "source": [
    "#Base = automap_base()\n",
    "\n",
    "#Base.prepare(autoload_with=engine)\n",
    "\n",
    "\n",
    "#seward=Base.classes.\n",
    "#print(seward)"
   ]
  },
  {
   "cell_type": "code",
   "execution_count": null,
   "id": "ae308371",
   "metadata": {},
   "outputs": [],
   "source": []
  }
 ],
 "metadata": {
  "kernelspec": {
   "display_name": "Python 3 (ipykernel)",
   "language": "python",
   "name": "python3"
  },
  "language_info": {
   "codemirror_mode": {
    "name": "ipython",
    "version": 3
   },
   "file_extension": ".py",
   "mimetype": "text/x-python",
   "name": "python",
   "nbconvert_exporter": "python",
   "pygments_lexer": "ipython3",
   "version": "3.10.9"
  }
 },
 "nbformat": 4,
 "nbformat_minor": 5
}
